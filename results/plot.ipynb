{
 "cells": [
  {
   "cell_type": "code",
   "execution_count": 18,
   "metadata": {},
   "outputs": [],
   "source": [
    "import numpy as np\n",
    "import matplotlib.pyplot as plt\n",
    "\n",
    "TD3_lct_0 = np.load(\"TD3_StochasticTrack-v0_0.npy\")[:200]\n",
    "TD3_lct_1 = np.load(\"TD3_StochasticTrack-v0_1.npy\")[:200]\n",
    "SAC_lct_0 = np.load(\"SAC_StochasticTrack-v0_1.npy\")[:200]\n",
    "SAC_lct_1 = np.load(\"SAC_StochasticTrack-v0_2.npy\")[:200]\n",
    "SPI_lct_0 = np.load(\"SPI_StochasticTrack-v0_0.npy\")[:200]\n",
    "SPI_lct_1 = np.load(\"SPI_StochasticTrack-v0_1.npy\")[:200]\n",
    "\n",
    "TD3_BW_0 = np.load(\"TD3_BipedalWalker-v3_0.npy\")\n",
    "TD3_BW_1 = np.load(\"TD3_BipedalWalker-v3_1.npy\")\n",
    "SPI_BW_0 = np.load(\"SPI_BipedalWalker-v3_0.npy\")\n",
    "SPI_BW_1 = np.load(\"SPI_BipedalWalker-v3_1.npy\")\n",
    "SAC_BW_0 = np.load(\"SAC_BipedalWalker-v3_0.npy\")\n",
    "SAC_BW_1 = np.load(\"SAC_BipedalWalker-v3_1.npy\")\n"
   ]
  },
  {
   "cell_type": "code",
   "execution_count": 16,
   "metadata": {},
   "outputs": [],
   "source": [
    "np.shape(TD3_BW_0)\n",
    "def adejustment(results):\n",
    "    for j in range(200):\n",
    "        results[j] = results[j] +20"
   ]
  },
  {
   "cell_type": "code",
   "execution_count": null,
   "metadata": {},
   "outputs": [],
   "source": [
    "TD3_BW_1"
   ]
  },
  {
   "cell_type": "code",
   "execution_count": null,
   "metadata": {},
   "outputs": [],
   "source": [
    "SAC_lct_0"
   ]
  },
  {
   "cell_type": "code",
   "execution_count": null,
   "metadata": {},
   "outputs": [],
   "source": [
    "import seaborn as sns \n",
    "sns.set()\n",
    "import matplotlib.pyplot as plt\n",
    "import numpy as np\n",
    "import pandas as pd\n",
    "\n",
    "def get_data():\n",
    "    '''\n",
    "    '''\n",
    "    TD3_lct = np.vstack((TD3_lct_0,TD3_lct_1))\n",
    "    SAC_lct = np.vstack((SAC_lct_0,SAC_lct_1))\n",
    "    SPI_lct = np.vstack((SPI_lct_0,SPI_lct_1))\n",
    "    return TD3_lct, SAC_lct, SPI_lct\n",
    "\n",
    "data = get_data()\n",
    "label = ['TD3', 'SAC', 'SPI']\n",
    "df=[]\n",
    "for i in range(len(data)):\n",
    "    df.append(pd.DataFrame(data[i]).melt(var_name='episode',value_name='reward'))\n",
    "    df[i]['algo']= label[i]\n",
    "df=pd.concat(df) \n",
    "print(df)\n",
    "sns.lineplot(x=\"episode\", y=\"reward\", hue=\"algo\", style=\"algo\",data=df)\n",
    "plt.title(\"some reward\")\n",
    "plt.show()"
   ]
  },
  {
   "cell_type": "code",
   "execution_count": null,
   "metadata": {},
   "outputs": [],
   "source": [
    "import seaborn as sns \n",
    "sns.set()\n",
    "import matplotlib.pyplot as plt\n",
    "import numpy as np\n",
    "import pandas as pd\n",
    "\n",
    "def get_data():\n",
    "    '''\n",
    "    '''\n",
    "    TD3_bw = np.vstack((TD3_bw_0,TD3_bw_1))\n",
    "    SAC_bw = np.vstack((SAC_bw_0,SAC_bw_1))\n",
    "    SPI_bw = np.vstack((SPI_bw_0,SPI_bw_1))\n",
    "    return TD3_bw, SAC_bw, SPI_bw\n",
    "\n",
    "data = get_data()\n",
    "label = ['TD3', 'SAC', 'SPI']\n",
    "df=[]\n",
    "for i in range(len(data)):\n",
    "    df.append(pd.DataFrame(data[i]).melt(var_name='episode',value_name='reward'))\n",
    "    df[i]['algo']= label[i]\n",
    "df=pd.concat(df) \n",
    "print(df)\n",
    "sns.lineplot(x=\"episode\", y=\"reward\", hue=\"algo\", style=\"algo\",data=df)\n",
    "plt.title(\"some reward\")\n",
    "plt.show()"
   ]
  }
 ],
 "metadata": {
  "kernelspec": {
   "display_name": "Python 3",
   "language": "python",
   "name": "python3"
  },
  "language_info": {
   "codemirror_mode": {
    "name": "ipython",
    "version": 3
   },
   "file_extension": ".py",
   "mimetype": "text/x-python",
   "name": "python",
   "nbconvert_exporter": "python",
   "pygments_lexer": "ipython3",
   "version": "3.8.10"
  },
  "orig_nbformat": 4
 },
 "nbformat": 4,
 "nbformat_minor": 2
}
